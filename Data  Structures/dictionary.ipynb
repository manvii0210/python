{
 "cells": [
  {
   "cell_type": "code",
   "execution_count": 5,
   "metadata": {},
   "outputs": [
    {
     "name": "stdout",
     "output_type": "stream",
     "text": [
      "{'name': 'manvi', 'age': 18, 'class': 12, 'subject': 'Account', 'marks': 85}\n"
     ]
    }
   ],
   "source": [
    "student = {\n",
    "    'name': 'manvi',\n",
    "    'age' : 18,\n",
    "    'class' : 12,\n",
    "    'subject' : 'Account',\n",
    "    'marks' : 85,\n",
    "}\n",
    "print (student)"
   ]
  },
  {
   "cell_type": "code",
   "execution_count": 7,
   "metadata": {},
   "outputs": [
    {
     "name": "stdout",
     "output_type": "stream",
     "text": [
      "{'lucknow': [25, 30, 35], 'delhi': [20, 25, 30], 'mumbai': [30, 35, 40]}\n"
     ]
    }
   ],
   "source": [
    "temp = {\n",
    "    'lucknow' : [25,30,35],\n",
    "    'delhi' : [20,25,30],\n",
    "    'mumbai' : [30,35,40],\n",
    "}\n",
    "print(temp)"
   ]
  },
  {
   "cell_type": "code",
   "execution_count": 10,
   "metadata": {},
   "outputs": [
    {
     "name": "stdout",
     "output_type": "stream",
     "text": [
      "{'name': 'john', 'age': 19, 'standard': '12th'}\n"
     ]
    }
   ],
   "source": [
    "info = dict(name = \"john\", age = 19, standard = '12th')\n",
    "print(info)"
   ]
  },
  {
   "cell_type": "code",
   "execution_count": 11,
   "metadata": {},
   "outputs": [
    {
     "name": "stdout",
     "output_type": "stream",
     "text": [
      "john\n",
      "19\n"
     ]
    }
   ],
   "source": [
    "#1st method to access value using key\n",
    "print(info['name'])\n",
    "print(info['age'])"
   ]
  },
  {
   "cell_type": "code",
   "execution_count": 12,
   "metadata": {},
   "outputs": [
    {
     "name": "stdout",
     "output_type": "stream",
     "text": [
      "john\n"
     ]
    }
   ],
   "source": [
    "#2nd method to access value using key\n",
    "print(info.get('name'))"
   ]
  },
  {
   "cell_type": "code",
   "execution_count": 13,
   "metadata": {},
   "outputs": [
    {
     "name": "stdout",
     "output_type": "stream",
     "text": [
      "{'name': 'john', 'age': 19, 'standard': '12th', 'city': 'lucknow'}\n"
     ]
    }
   ],
   "source": [
    "#to add items in dictionary\n",
    "info['city'] = 'lucknow'\n",
    "print(info)"
   ]
  },
  {
   "cell_type": "code",
   "execution_count": 15,
   "metadata": {},
   "outputs": [
    {
     "name": "stdout",
     "output_type": "stream",
     "text": [
      "dict_keys(['name', 'age', 'class', 'subject', 'marks'])\n",
      "dict_values(['manvi', 18, 12, 'Account', 85])\n",
      "dict_items([('name', 'manvi'), ('age', 18), ('class', 12), ('subject', 'Account'), ('marks', 85)])\n"
     ]
    }
   ],
   "source": [
    "print(student.keys())\n",
    "print(student.values())\n",
    "print(student.items())\n"
   ]
  },
  {
   "cell_type": "code",
   "execution_count": 16,
   "metadata": {},
   "outputs": [
    {
     "name": "stdout",
     "output_type": "stream",
     "text": [
      "name : john\n",
      "age : 19\n",
      "standard : 12th\n",
      "city : lucknow\n"
     ]
    }
   ],
   "source": [
    "for x,y in info.items():\n",
    "    print(f\"{x} : {y}\")"
   ]
  },
  {
   "cell_type": "code",
   "execution_count": 17,
   "metadata": {},
   "outputs": [
    {
     "name": "stdout",
     "output_type": "stream",
     "text": [
      "the sum of 4 and is 6\n",
      "the sum of4 and 2is (a+b)\n"
     ]
    }
   ],
   "source": [
    "a = 4\n",
    "b = 2\n",
    "print(\"the sum of\",a,\"and\",\"is\",a+b)\n",
    "print(f\"the sum of{a} and {b}is (a+b)\")\n"
   ]
  },
  {
   "cell_type": "code",
   "execution_count": 18,
   "metadata": {},
   "outputs": [
    {
     "name": "stdout",
     "output_type": "stream",
     "text": [
      "{'emp001': {'name': 'john', 'age': 25, 'designation': 'manager'}, 'emp002': {'name': 'harry', 'age': 22, 'designation': 'developer'}, 'emp003': {'name': 'smith', 'age': 25, 'designation': 'hr'}}\n"
     ]
    }
   ],
   "source": [
    "company = {\n",
    "    'emp001' : {\n",
    "        'name' : 'john',\n",
    "        'age' : 25,\n",
    "        'designation' : 'manager'\n",
    "    },\n",
    "    'emp002' : {\n",
    "        'name' : 'harry',\n",
    "        'age' : 22,\n",
    "        'designation' : 'developer'\n",
    "    },\n",
    "    'emp003' : {\n",
    "        'name' : 'smith',\n",
    "        'age' : 25,\n",
    "        'designation' : 'hr'\n",
    "    }\n",
    "}\n",
    "print(company)"
   ]
  },
  {
   "cell_type": "code",
   "execution_count": 19,
   "metadata": {},
   "outputs": [],
   "source": [
    "from pprint import pprint"
   ]
  },
  {
   "cell_type": "code",
   "execution_count": 20,
   "metadata": {},
   "outputs": [
    {
     "name": "stdout",
     "output_type": "stream",
     "text": [
      "{'emp001': {'age': 25, 'designation': 'manager', 'name': 'john'},\n",
      " 'emp002': {'age': 22, 'designation': 'developer', 'name': 'harry'},\n",
      " 'emp003': {'age': 25, 'designation': 'hr', 'name': 'smith'}}\n"
     ]
    }
   ],
   "source": [
    "pprint(company)"
   ]
  },
  {
   "cell_type": "code",
   "execution_count": 21,
   "metadata": {},
   "outputs": [
    {
     "data": {
      "text/plain": [
       "'harry'"
      ]
     },
     "execution_count": 21,
     "metadata": {},
     "output_type": "execute_result"
    }
   ],
   "source": [
    "company['emp002']['name']"
   ]
  },
  {
   "cell_type": "code",
   "execution_count": 22,
   "metadata": {},
   "outputs": [
    {
     "name": "stdout",
     "output_type": "stream",
     "text": [
      "25\n"
     ]
    }
   ],
   "source": [
    "print(temp['lucknow'][0])"
   ]
  }
 ],
 "metadata": {
  "kernelspec": {
   "display_name": "base",
   "language": "python",
   "name": "python3"
  },
  "language_info": {
   "codemirror_mode": {
    "name": "ipython",
    "version": 3
   },
   "file_extension": ".py",
   "mimetype": "text/x-python",
   "name": "python",
   "nbconvert_exporter": "python",
   "pygments_lexer": "ipython3",
   "version": "3.12.8"
  }
 },
 "nbformat": 4,
 "nbformat_minor": 2
}
