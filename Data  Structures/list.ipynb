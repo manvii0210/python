{
 "cells": [
  {
   "cell_type": "code",
   "execution_count": 1,
   "metadata": {},
   "outputs": [
    {
     "name": "stdout",
     "output_type": "stream",
     "text": [
      "['swiggy', 'whatsapp', 'instagram', 'flipkart', 'amazon', 'zomzto', 'youtube', 'nykaa', 'google', 'drive']\n"
     ]
    }
   ],
   "source": [
    "app = [\"swiggy\",\"whatsapp\",\"instagram\",\"flipkart\",\"amazon\",\"zomzto\",\"youtube\",\"nykaa\",\"google\",\"drive\"]\n",
    "print(app)"
   ]
  },
  {
   "cell_type": "code",
   "execution_count": 3,
   "metadata": {},
   "outputs": [
    {
     "name": "stdout",
     "output_type": "stream",
     "text": [
      "swiggy\n",
      "whatsapp\n",
      "instagram\n",
      "flipkart\n",
      "amazon\n",
      "zomzto\n",
      "youtube\n",
      "nykaa\n",
      "google\n",
      "drive\n"
     ]
    }
   ],
   "source": [
    "for i in app:\n",
    "    print(i)"
   ]
  },
  {
   "cell_type": "code",
   "execution_count": 4,
   "metadata": {},
   "outputs": [
    {
     "name": "stdout",
     "output_type": "stream",
     "text": [
      "swiggy * whatsapp * instagram * flipkart * amazon * zomzto * youtube * nykaa * google * drive * "
     ]
    }
   ],
   "source": [
    "for i in app:\n",
    "    print(i, end=\" * \")"
   ]
  },
  {
   "cell_type": "code",
   "execution_count": 5,
   "metadata": {},
   "outputs": [
    {
     "name": "stdout",
     "output_type": "stream",
     "text": [
      "youtube\n"
     ]
    }
   ],
   "source": [
    "print(app[6])"
   ]
  },
  {
   "cell_type": "code",
   "execution_count": 6,
   "metadata": {},
   "outputs": [
    {
     "name": "stdout",
     "output_type": "stream",
     "text": [
      "nykaa\n"
     ]
    }
   ],
   "source": [
    "print(app[-3])"
   ]
  },
  {
   "cell_type": "code",
   "execution_count": null,
   "metadata": {},
   "outputs": [],
   "source": [
    "print(app[-6])"
   ]
  },
  {
   "cell_type": "code",
   "execution_count": 1,
   "metadata": {},
   "outputs": [
    {
     "name": "stdout",
     "output_type": "stream",
     "text": [
      "123\n"
     ]
    }
   ],
   "source": [
    "print(123)"
   ]
  }
 ],
 "metadata": {
  "kernelspec": {
   "display_name": "base",
   "language": "python",
   "name": "python3"
  },
  "language_info": {
   "codemirror_mode": {
    "name": "ipython",
    "version": 3
   },
   "file_extension": ".py",
   "mimetype": "text/x-python",
   "name": "python",
   "nbconvert_exporter": "python",
   "pygments_lexer": "ipython3",
   "version": "3.12.8"
  }
 },
 "nbformat": 4,
 "nbformat_minor": 2
}
