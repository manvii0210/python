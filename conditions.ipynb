{
 "cells": [
  {
   "cell_type": "code",
   "execution_count": null,
   "metadata": {},
   "outputs": [
    {
     "name": "stdout",
     "output_type": "stream",
     "text": [
      "B\n"
     ]
    }
   ],
   "source": [
    "marks =int(input(\"enter your marks\"))\n",
    "if marks >= 90:\n",
    "    print('A+')\n",
    "if marks >=75:\n",
    "    print('A')   \n",
    "if marks >=60:\n",
    "    print('B')\n",
    "if marks <60 :\n",
    "    print('Fail')"
   ]
  },
  {
   "cell_type": "code",
   "execution_count": null,
   "metadata": {},
   "outputs": [
    {
     "name": "stdout",
     "output_type": "stream",
     "text": [
      "A\n"
     ]
    }
   ],
   "source": [
    "marks =int(input(\"enter your marks\"))\n",
    "\n",
    "if marks >= 90:\n",
    "    print('A+')\n",
    "elif marks >=75:\n",
    "    print('A')   \n",
    "elif marks >=60:\n",
    "    print('B')\n",
    "\n",
    "elif marks <60 :\n",
    "    print('Fail')\n",
    "    \n",
    "else:\n",
    "    print('invalid input')\n"
   ]
  },
  {
   "cell_type": "code",
   "execution_count": null,
   "metadata": {},
   "outputs": [
    {
     "name": "stdout",
     "output_type": "stream",
     "text": [
      "You are not eligible to vote\n"
     ]
    }
   ],
   "source": [
    "age = int(input(\"Enter your age:\"))\n",
    "if age >=18:\n",
    "    print(\"You are eligible to vote \")\n",
    "else:\n",
    "    print(\"You are not eligible to vote\")"
   ]
  },
  {
   "cell_type": "code",
   "execution_count": null,
   "metadata": {},
   "outputs": [
    {
     "name": "stdout",
     "output_type": "stream",
     "text": [
      "the value is not positive\n"
     ]
    }
   ],
   "source": [
    "#question1\n",
    "number = int(input(\"Enter a number:\"))\n",
    "if number >0:\n",
    "   print(\"the value is positive\")\n",
    "else:\n",
    "   print(\"the value is not positive\")\n"
   ]
  },
  {
   "cell_type": "code",
   "execution_count": null,
   "metadata": {},
   "outputs": [
    {
     "name": "stdout",
     "output_type": "stream",
     "text": [
      "the number is not even\n"
     ]
    }
   ],
   "source": [
    "#question2\n",
    "var = int(input(\"Enter a number:\"))\n",
    "if num % 2 == 0:\n",
    "    print(\"the number is odd\")\n",
    "else:\n",
    "    print(\"the number is not even\")"
   ]
  },
  {
   "cell_type": "code",
   "execution_count": null,
   "metadata": {},
   "outputs": [
    {
     "name": "stdout",
     "output_type": "stream",
     "text": [
      "Isosceles triangle\n"
     ]
    }
   ],
   "source": [
    "##question3\n",
    "s1 = 20\n",
    "s2 = 15\n",
    "s3 = 20\n",
    "\n",
    "if s1 == s2 == s3:\n",
    "    print('Equilaternal triangle')\n",
    "elif s1 ==s2 or s2 == s3 or s1 == s3:\n",
    "    print('Isosceles triangle')\n",
    "else:\n",
    "    print('Scalene triangle')"
   ]
  },
  {
   "cell_type": "code",
   "execution_count": null,
   "metadata": {},
   "outputs": [
    {
     "name": "stdout",
     "output_type": "stream",
     "text": [
      "consonant\n"
     ]
    }
   ],
   "source": [
    "#question4\n",
    "char = input(\"Enter a character:\")\n",
    "if char in 'aeiou':\n",
    "     print('vowel')\n",
    "else:\n",
    "   print('consonant')"
   ]
  },
  {
   "cell_type": "code",
   "execution_count": null,
   "metadata": {},
   "outputs": [
    {
     "name": "stdout",
     "output_type": "stream",
     "text": [
      "password does not match\n"
     ]
    }
   ],
   "source": [
    "username = input(\"enter your username: \")\n",
    "email = input(\"enter your email: \")\n",
    "password = input(\"enter your password: \")\n",
    "cpass = input(\"enter your confirm password: \")\n",
    "if len(username)>5 and len(username)<15:\n",
    "    if '@' in email and len(email)>10:\n",
    "        if len(password)>8 and len(password)<15:\n",
    "            if password == cpass:\n",
    "                print('registration successful')\n",
    "            else:\n",
    "                print('password does not match')\n",
    "        else:\n",
    "            print('password must be between 8 and 15 characters')\n",
    "    else:\n",
    "        print('invalid email')\n",
    "else:\n",
    "    print('invalid username')"
   ]
  }
 ],
 "metadata": {
  "kernelspec": {
   "display_name": "base",
   "language": "python",
   "name": "python3"
  },
  "language_info": {
   "codemirror_mode": {
    "name": "ipython",
    "version": 3
   },
   "file_extension": ".py",
   "mimetype": "text/x-python",
   "name": "python",
   "nbconvert_exporter": "python",
   "pygments_lexer": "ipython3",
   "version": "3.12.8"
  }
 },
 "nbformat": 4,
 "nbformat_minor": 2
}
