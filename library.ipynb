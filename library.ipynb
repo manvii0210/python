{
 "cells": [
  {
   "cell_type": "code",
   "execution_count": null,
   "metadata": {},
   "outputs": [],
   "source": [
    "#libarary\n",
    "import math"
   ]
  },
  {
   "cell_type": "code",
   "execution_count": 2,
   "metadata": {},
   "outputs": [
    {
     "name": "stdout",
     "output_type": "stream",
     "text": [
      "5.0\n",
      "3.141592653589793\n",
      "10\n",
      "120\n",
      "8.0\n",
      "2.302585092994046\n",
      "0.8414709848078965\n"
     ]
    }
   ],
   "source": [
    "print(math.sqrt(25))\n",
    "print(math.pi)\n",
    "print(math.gcd(10,20))\n",
    "print(math.factorial(5))\n",
    "print(math.pow(2,3))\n",
    "print(math.log(10))\n",
    "print(math.sin(1))"
   ]
  },
  {
   "cell_type": "code",
   "execution_count": 5,
   "metadata": {},
   "outputs": [],
   "source": [
    "from random import random, randint, choice, shuffle"
   ]
  },
  {
   "cell_type": "code",
   "execution_count": 74,
   "metadata": {},
   "outputs": [
    {
     "name": "stdout",
     "output_type": "stream",
     "text": [
      "get a random number between 0 and 1: 0.8491656496857255\n",
      "get a random number between 1 and 100: 39\n",
      "get a random element from a list: 4\n",
      "shuffle a list: ['Jerry', 'Spike', 'Tom', 'Tyke']\n"
     ]
    }
   ],
   "source": [
    "print('get a random number between 0 and 1:', random())\n",
    "print('get a random number between 1 and 100:', randint(1,100))\n",
    "print('get a random element from a list:', choice([1,2,3,4,5]))\n",
    "names= ['Tom','Jerry','Spike','Tyke']\n",
    "shuffle(names)\n",
    "print('shuffle a list:',names)"
   ]
  },
  {
   "cell_type": "code",
   "execution_count": 86,
   "metadata": {},
   "outputs": [],
   "source": [
    "#date & time\n",
    "from datetime import datetime as dt"
   ]
  },
  {
   "cell_type": "code",
   "execution_count": 87,
   "metadata": {},
   "outputs": [
    {
     "name": "stdout",
     "output_type": "stream",
     "text": [
      "current date and time: 2025-02-28 13:27:08.771408\n"
     ]
    }
   ],
   "source": [
    "print('current date and time:', dt.now())"
   ]
  },
  {
   "cell_type": "code",
   "execution_count": 93,
   "metadata": {},
   "outputs": [
    {
     "name": "stdout",
     "output_type": "stream",
     "text": [
      "current year: 2025\n",
      "current month: 2\n",
      "current day: 28\n",
      "current hour: 13\n",
      "current minute: 31\n",
      "current second: 55\n"
     ]
    }
   ],
   "source": [
    "print('current year:',dt.now().year)\n",
    "print('current month:',dt.now().month)\n",
    "print('current day:',dt.now().day)\n",
    "print('current hour:',dt.now().hour)\n",
    "print('current minute:',dt.now().minute)\n",
    "print('current second:',dt.now().second)"
   ]
  },
  {
   "cell_type": "code",
   "execution_count": 97,
   "metadata": {},
   "outputs": [
    {
     "name": "stdout",
     "output_type": "stream",
     "text": [
      "current day name: Friday\n",
      "current day name: Fri\n",
      "current day name: February\n",
      "current day name: Feb\n"
     ]
    }
   ],
   "source": [
    "#for print name od days\n",
    "print('current day name:',dt.now().strftime('%A'))\n",
    "print('current day name:',dt.now().strftime('%a'))\n",
    "print('current day name:',dt.now().strftime('%B'))\n",
    "print('current day name:',dt.now().strftime('%b'))"
   ]
  }
 ],
 "metadata": {
  "kernelspec": {
   "display_name": "base",
   "language": "python",
   "name": "python3"
  },
  "language_info": {
   "codemirror_mode": {
    "name": "ipython",
    "version": 3
   },
   "file_extension": ".py",
   "mimetype": "text/x-python",
   "name": "python",
   "nbconvert_exporter": "python",
   "pygments_lexer": "ipython3",
   "version": "3.12.8"
  }
 },
 "nbformat": 4,
 "nbformat_minor": 2
}
